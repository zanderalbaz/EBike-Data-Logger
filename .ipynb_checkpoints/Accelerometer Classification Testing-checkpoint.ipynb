{
 "cells": [
  {
   "cell_type": "code",
   "execution_count": 139,
   "id": "53bbfcb8",
   "metadata": {},
   "outputs": [
    {
     "name": "stdout",
     "output_type": "stream",
     "text": [
      "Defaulting to user installation because normal site-packages is not writeable\n",
      "Requirement already satisfied: xgboost in c:\\users\\zande\\appdata\\roaming\\python\\python312\\site-packages (2.1.4)\n",
      "Requirement already satisfied: numpy in c:\\programdata\\anaconda3\\lib\\site-packages (from xgboost) (1.26.4)\n",
      "Requirement already satisfied: scipy in c:\\programdata\\anaconda3\\lib\\site-packages (from xgboost) (1.13.1)\n",
      "Note: you may need to restart the kernel to use updated packages.\n"
     ]
    }
   ],
   "source": [
    "import pandas as pd\n",
    "import numpy as np\n",
    "from scipy.stats import uniform, randint\n",
    "from sklearn.model_selection import train_test_split\n",
    "from sklearn.ensemble import RandomForestClassifier\n",
    "from sklearn.metrics import accuracy_score, f1_score, precision_score, recall_score\n",
    "%pip install xgboost\n",
    "import xgboost as xgb\n",
    "from sklearn.preprocessing import StandardScaler, LabelEncoder\n",
    "from sklearn.model_selection import RandomizedSearchCV,cross_val_predict\n"
   ]
  },
  {
   "cell_type": "code",
   "execution_count": 48,
   "id": "a2a74c8b",
   "metadata": {},
   "outputs": [
    {
     "data": {
      "text/html": [
       "<div>\n",
       "<style scoped>\n",
       "    .dataframe tbody tr th:only-of-type {\n",
       "        vertical-align: middle;\n",
       "    }\n",
       "\n",
       "    .dataframe tbody tr th {\n",
       "        vertical-align: top;\n",
       "    }\n",
       "\n",
       "    .dataframe thead th {\n",
       "        text-align: right;\n",
       "    }\n",
       "</style>\n",
       "<table border=\"1\" class=\"dataframe\">\n",
       "  <thead>\n",
       "    <tr style=\"text-align: right;\">\n",
       "      <th></th>\n",
       "      <th>MagX1</th>\n",
       "      <th>MagY1</th>\n",
       "      <th>MagZ1</th>\n",
       "      <th>AccX1</th>\n",
       "      <th>AccY1</th>\n",
       "      <th>AccZ1</th>\n",
       "      <th>MagX2</th>\n",
       "      <th>MagY2</th>\n",
       "      <th>MagZ2</th>\n",
       "      <th>Class</th>\n",
       "    </tr>\n",
       "  </thead>\n",
       "  <tbody>\n",
       "    <tr>\n",
       "      <th>0</th>\n",
       "      <td>-0.39</td>\n",
       "      <td>0.31</td>\n",
       "      <td>-0.20</td>\n",
       "      <td>119.63</td>\n",
       "      <td>615.72</td>\n",
       "      <td>797.36</td>\n",
       "      <td>-1.56</td>\n",
       "      <td>1.06</td>\n",
       "      <td>-2.53</td>\n",
       "      <td>1</td>\n",
       "    </tr>\n",
       "    <tr>\n",
       "      <th>1</th>\n",
       "      <td>0.66</td>\n",
       "      <td>-0.14</td>\n",
       "      <td>-1.10</td>\n",
       "      <td>118.16</td>\n",
       "      <td>644.04</td>\n",
       "      <td>757.32</td>\n",
       "      <td>-1.86</td>\n",
       "      <td>2.71</td>\n",
       "      <td>-3.88</td>\n",
       "      <td>1</td>\n",
       "    </tr>\n",
       "    <tr>\n",
       "      <th>2</th>\n",
       "      <td>-1.14</td>\n",
       "      <td>0.76</td>\n",
       "      <td>-0.20</td>\n",
       "      <td>117.68</td>\n",
       "      <td>626.46</td>\n",
       "      <td>792.48</td>\n",
       "      <td>-0.36</td>\n",
       "      <td>0.61</td>\n",
       "      <td>-2.23</td>\n",
       "      <td>1</td>\n",
       "    </tr>\n",
       "    <tr>\n",
       "      <th>3</th>\n",
       "      <td>0.21</td>\n",
       "      <td>-0.14</td>\n",
       "      <td>1.30</td>\n",
       "      <td>124.51</td>\n",
       "      <td>626.95</td>\n",
       "      <td>765.14</td>\n",
       "      <td>-0.66</td>\n",
       "      <td>1.96</td>\n",
       "      <td>-2.83</td>\n",
       "      <td>1</td>\n",
       "    </tr>\n",
       "    <tr>\n",
       "      <th>4</th>\n",
       "      <td>-0.39</td>\n",
       "      <td>-0.44</td>\n",
       "      <td>-1.40</td>\n",
       "      <td>125.00</td>\n",
       "      <td>637.70</td>\n",
       "      <td>762.21</td>\n",
       "      <td>0.24</td>\n",
       "      <td>1.21</td>\n",
       "      <td>-3.58</td>\n",
       "      <td>1</td>\n",
       "    </tr>\n",
       "    <tr>\n",
       "      <th>...</th>\n",
       "      <td>...</td>\n",
       "      <td>...</td>\n",
       "      <td>...</td>\n",
       "      <td>...</td>\n",
       "      <td>...</td>\n",
       "      <td>...</td>\n",
       "      <td>...</td>\n",
       "      <td>...</td>\n",
       "      <td>...</td>\n",
       "      <td>...</td>\n",
       "    </tr>\n",
       "    <tr>\n",
       "      <th>245</th>\n",
       "      <td>0.16</td>\n",
       "      <td>0.10</td>\n",
       "      <td>-0.31</td>\n",
       "      <td>125.00</td>\n",
       "      <td>618.16</td>\n",
       "      <td>777.34</td>\n",
       "      <td>0.32</td>\n",
       "      <td>-1.49</td>\n",
       "      <td>-0.25</td>\n",
       "      <td>1</td>\n",
       "    </tr>\n",
       "    <tr>\n",
       "      <th>246</th>\n",
       "      <td>0.76</td>\n",
       "      <td>-0.50</td>\n",
       "      <td>-0.91</td>\n",
       "      <td>134.77</td>\n",
       "      <td>640.14</td>\n",
       "      <td>775.88</td>\n",
       "      <td>1.22</td>\n",
       "      <td>-0.74</td>\n",
       "      <td>-0.55</td>\n",
       "      <td>1</td>\n",
       "    </tr>\n",
       "    <tr>\n",
       "      <th>247</th>\n",
       "      <td>0.46</td>\n",
       "      <td>0.70</td>\n",
       "      <td>-0.61</td>\n",
       "      <td>136.23</td>\n",
       "      <td>626.95</td>\n",
       "      <td>779.30</td>\n",
       "      <td>0.77</td>\n",
       "      <td>-0.44</td>\n",
       "      <td>0.20</td>\n",
       "      <td>1</td>\n",
       "    </tr>\n",
       "    <tr>\n",
       "      <th>248</th>\n",
       "      <td>-0.29</td>\n",
       "      <td>0.10</td>\n",
       "      <td>-1.21</td>\n",
       "      <td>128.91</td>\n",
       "      <td>629.88</td>\n",
       "      <td>785.64</td>\n",
       "      <td>1.37</td>\n",
       "      <td>-2.39</td>\n",
       "      <td>-1.15</td>\n",
       "      <td>1</td>\n",
       "    </tr>\n",
       "    <tr>\n",
       "      <th>249</th>\n",
       "      <td>1.36</td>\n",
       "      <td>-0.65</td>\n",
       "      <td>-0.31</td>\n",
       "      <td>136.23</td>\n",
       "      <td>623.05</td>\n",
       "      <td>771.48</td>\n",
       "      <td>1.97</td>\n",
       "      <td>-1.19</td>\n",
       "      <td>-0.25</td>\n",
       "      <td>1</td>\n",
       "    </tr>\n",
       "  </tbody>\n",
       "</table>\n",
       "<p>450 rows × 10 columns</p>\n",
       "</div>"
      ],
      "text/plain": [
       "     MagX1  MagY1  MagZ1   AccX1   AccY1   AccZ1  MagX2  MagY2  MagZ2  Class\n",
       "0    -0.39   0.31  -0.20  119.63  615.72  797.36  -1.56   1.06  -2.53      1\n",
       "1     0.66  -0.14  -1.10  118.16  644.04  757.32  -1.86   2.71  -3.88      1\n",
       "2    -1.14   0.76  -0.20  117.68  626.46  792.48  -0.36   0.61  -2.23      1\n",
       "3     0.21  -0.14   1.30  124.51  626.95  765.14  -0.66   1.96  -2.83      1\n",
       "4    -0.39  -0.44  -1.40  125.00  637.70  762.21   0.24   1.21  -3.58      1\n",
       "..     ...    ...    ...     ...     ...     ...    ...    ...    ...    ...\n",
       "245   0.16   0.10  -0.31  125.00  618.16  777.34   0.32  -1.49  -0.25      1\n",
       "246   0.76  -0.50  -0.91  134.77  640.14  775.88   1.22  -0.74  -0.55      1\n",
       "247   0.46   0.70  -0.61  136.23  626.95  779.30   0.77  -0.44   0.20      1\n",
       "248  -0.29   0.10  -1.21  128.91  629.88  785.64   1.37  -2.39  -1.15      1\n",
       "249   1.36  -0.65  -0.31  136.23  623.05  771.48   1.97  -1.19  -0.25      1\n",
       "\n",
       "[450 rows x 10 columns]"
      ]
     },
     "execution_count": 48,
     "metadata": {},
     "output_type": "execute_result"
    }
   ],
   "source": [
    "df = pd.read_csv(\"0131_2.csv\")\n",
    "df2 = pd.read_csv(\"0131_3.csv\")\n",
    "df = pd.concat([df,df2], axis=0)\n",
    "#for i in range(2,16):\n",
    "#    partialDF = pd.read_csv(f\"{i}.csv\", header=None)\n",
    "#    df = pd.concat([df,partialDF],ignore_index=True, axis=0)\n",
    "df"
   ]
  },
  {
   "cell_type": "code",
   "execution_count": 145,
   "id": "12ecc824",
   "metadata": {},
   "outputs": [
    {
     "name": "stdout",
     "output_type": "stream",
     "text": [
      "Index(['MagX1', 'MagY1', 'MagZ1', 'AccX1', 'AccY1', 'AccZ1', 'MagX2', 'MagY2',\n",
      "       'MagZ2', 'Class'],\n",
      "      dtype='object')\n",
      "test\\train splitting complete\n",
      "Training: 360, Testing: 90\n"
     ]
    }
   ],
   "source": [
    "#https://www.geeksforgeeks.org/random-forest-classifier-using-scikit-learn/\n",
    "#The general setup for the model is here\n",
    "y = df['Class'].to_numpy()\n",
    "print(df.columns)\n",
    "#df = df.drop(\"Class\", axis=1, errors=\"ignore\")\n",
    "X = df[df.columns[0:-1]].to_numpy()\n",
    "X = StandardScaler().fit_transform(X)\n",
    "train_size = 0.8\n",
    "test_size = 1-train_size\n",
    "X_train, X_test, y_train, y_test = train_test_split(X, y, train_size=train_size, test_size = test_size, random_state=42)\n",
    "print(\"test\\\\train splitting complete\")\n",
    "print(f\"Training: {len(X_train)}, Testing: {len(X_test)}\")\n",
    "le = LabelEncoder()\n",
    "y_train = le.fit_transform(y_train)\n",
    "y_test = le.fit_transform(y_test)\n",
    "y = le.fit_transform(y)"
   ]
  },
  {
   "cell_type": "code",
   "execution_count": 94,
   "id": "fbe3478c",
   "metadata": {},
   "outputs": [
    {
     "data": {
      "text/plain": [
       "array([[<Axes: title={'center': 'MagX1'}>,\n",
       "        <Axes: title={'center': 'MagY1'}>,\n",
       "        <Axes: title={'center': 'MagZ1'}>],\n",
       "       [<Axes: title={'center': 'AccX1'}>,\n",
       "        <Axes: title={'center': 'AccY1'}>,\n",
       "        <Axes: title={'center': 'AccZ1'}>],\n",
       "       [<Axes: title={'center': 'MagX2'}>,\n",
       "        <Axes: title={'center': 'MagY2'}>,\n",
       "        <Axes: title={'center': 'MagZ2'}>],\n",
       "       [<Axes: title={'center': 'Class'}>, <Axes: >, <Axes: >]],\n",
       "      dtype=object)"
      ]
     },
     "execution_count": 94,
     "metadata": {},
     "output_type": "execute_result"
    },
    {
     "data": {
      "image/png": "[encoded data removed]",
      "text/plain": [
       "<Figure size 640x480 with 12 Axes>"
      ]
     },
     "metadata": {},
     "output_type": "display_data"
    }
   ],
   "source": [
    "df[df.columns].hist(density=True)"
   ]
  },
  {
   "cell_type": "code",
   "execution_count": 153,
   "id": "2d7f3322",
   "metadata": {},
   "outputs": [
    {
     "name": "stdout",
     "output_type": "stream",
     "text": [
      "Fitting models\n",
      "Model fitting complete\n"
     ]
    }
   ],
   "source": [
    "randomForestClassifier = RandomForestClassifier(n_estimators = 150, criterion=\"gini\", max_features=\"sqrt\", random_state=42)\n",
    "#Best params from GridSearch: {'learning_rate': 0.1, 'max_depth': 5, 'n_estimators': 300, 'sampling_method': 'uniform', 'subsample': 0.5}\n",
    "#Best params from RandomSearch: {'colsample_bytree': 0.855325405158244, 'gamma': 0.418855052953664, 'learning_rate': 0.2127070351117842, 'max_depth': 2, 'n_estimators': 227}\n",
    "xgb_clf = xgb.XGBClassifier(n_estimators=227, learning_rate=0.2127070351117842, max_depth=2, random_state=42, gamma=0.418855052953664, colsample_bytree=0.855325405158244)\n",
    "\n",
    "print(\"Fitting models\")\n",
    "randomForestClassifier.fit(X, y)\n",
    "xgb_clf.fit(X, y)\n",
    "print(\"Model fitting complete\")\n"
   ]
  },
  {
   "cell_type": "code",
   "execution_count": 154,
   "id": "6d480967",
   "metadata": {},
   "outputs": [
    {
     "name": "stdout",
     "output_type": "stream",
     "text": [
      "Predicting Model\n",
      "Complete\n"
     ]
    }
   ],
   "source": [
    "#APR Reference: https://stackoverflow.com/questions/31421413/how-to-compute-precision-recall-accuracy-and-f1-score-for-the-multiclass-case\n",
    "print(\"Predicting Model\")\n",
    "y_pred_rf = cross_val_predict(randomForestClassifier,X,y,cv=3)\n",
    "y_pred_xgb =cross_val_predict(xgb_clf,X,y,cv=3)\n",
    "print(\"Complete\")"
   ]
  },
  {
   "cell_type": "code",
   "execution_count": 155,
   "id": "fcfbd612",
   "metadata": {},
   "outputs": [
    {
     "name": "stdout",
     "output_type": "stream",
     "text": [
      "Accuracy RF: 0.68\n",
      "F1 Score RF: 0.6612012715409068\n",
      "Precision RF: 0.6838235294117647\n",
      "Recall RF: 0.6619999999999999\n",
      "\n",
      "Accuracy XGB: 0.6911111111111111\n",
      "F1 Score XGB: 0.6802327067496203\n",
      "Precision XGB: 0.6893739023719345\n",
      "Recall XGB: 0.679\n"
     ]
    }
   ],
   "source": [
    "print(\"Accuracy RF:\", accuracy_score(y, y_pred_rf))\n",
    "print(\"F1 Score RF:\", f1_score(y, y_pred_rf, average=\"macro\"))\n",
    "print(\"Precision RF:\", precision_score(y, y_pred_rf, average=\"macro\"))\n",
    "print(\"Recall RF:\", recall_score(y, y_pred_rf, average=\"macro\"))\n",
    "print()\n",
    "print(\"Accuracy XGB:\", accuracy_score(y, y_pred_xgb))\n",
    "print(\"F1 Score XGB:\", f1_score(y, y_pred_xgb, average=\"macro\"))\n",
    "print(\"Precision XGB:\", precision_score(y, y_pred_xgb, average=\"macro\"))\n",
    "print(\"Recall XGB:\", recall_score(y, y_pred_xgb, average=\"macro\"))"
   ]
  },
  {
   "cell_type": "code",
   "execution_count": 149,
   "id": "fdda42c3",
   "metadata": {},
   "outputs": [
    {
     "name": "stdout",
     "output_type": "stream",
     "text": [
      "Fitting 5 folds for each of 100 candidates, totalling 500 fits\n",
      "Best parameters found:  {'colsample_bytree': 0.855325405158244, 'gamma': 0.418855052953664, 'learning_rate': 0.2127070351117842, 'max_depth': 2, 'n_estimators': 227}\n",
      "Best score:  0.7694444444444445\n",
      "Test score:  0.7888888888888889\n"
     ]
    }
   ],
   "source": [
    "#Sources: https://stackoverflow.com/questions/53782169/random-forest-tuning-with-randomizedsearchcv\n",
    "# https://medium.com/@thommaskevin/tinyml-xgboost-classifier-795202285779\n",
    "params = {\n",
    "    \"colsample_bytree\": uniform(0.7, 0.3),\n",
    "    \"gamma\": uniform(0, 0.5),\n",
    "    \"learning_rate\": uniform(0.01, 0.3), \n",
    "    \"max_depth\": randint(2, 10), \n",
    "    \"n_estimators\": randint(50, 250)\n",
    "    \"subsample\": uniform(0.4,0.6)#,\n",
    "    #\"reg_lambda\": randint(0,10),\n",
    "    #\"reg_alpha\": randint(0,10)\n",
    "}\n",
    "\n",
    "random_search = RandomizedSearchCV(estimator=xgb_clf, param_distributions=params, cv=5, scoring='accuracy', verbose=1, n_iter = 100, random_state=42)\n",
    "random_search.fit(X_train, y_train)\n",
    "print(\"Best parameters found: \", random_search.best_params_)\n",
    "print(\"Best score: \", random_search.best_score_)\n",
    "grid_search_score = random_search.best_estimator_.score(X_test, y_test)\n",
    "\n",
    "print(\"Test score: \", grid_search_score)"
   ]
  }
 ],
 "metadata": {
  "kernelspec": {
   "display_name": "Python 3 (ipykernel)",
   "language": "python",
   "name": "python3"
  },
  "language_info": {
   "codemirror_mode": {
    "name": "ipython",
    "version": 3
   },
   "file_extension": ".py",
   "mimetype": "text/x-python",
   "name": "python",
   "nbconvert_exporter": "python",
   "pygments_lexer": "ipython3",
   "version": "3.12.4"
  }
 },
 "nbformat": 4,
 "nbformat_minor": 5
}
