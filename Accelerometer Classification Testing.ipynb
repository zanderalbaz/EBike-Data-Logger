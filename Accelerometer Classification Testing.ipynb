{
 "cells": [
  {
   "cell_type": "code",
   "execution_count": 232,
   "id": "53bbfcb8",
   "metadata": {},
   "outputs": [],
   "source": [
    "import pandas as pd\n",
    "import numpy as np\n",
    "from sklearn.model_selection import train_test_split\n",
    "from sklearn.ensemble import RandomForestClassifier\n",
    "from sklearn.metrics import accuracy_score, f1_score, precision_score, recall_score\n",
    "#%pip install xgboost\n",
    "import xgboost as xgb\n",
    "from sklearn.preprocessing import StandardScaler "
   ]
  },
  {
   "cell_type": "code",
   "execution_count": 223,
   "id": "a2a74c8b",
   "metadata": {},
   "outputs": [
    {
     "data": {
      "text/html": [
       "<div>\n",
       "<style scoped>\n",
       "    .dataframe tbody tr th:only-of-type {\n",
       "        vertical-align: middle;\n",
       "    }\n",
       "\n",
       "    .dataframe tbody tr th {\n",
       "        vertical-align: top;\n",
       "    }\n",
       "\n",
       "    .dataframe thead th {\n",
       "        text-align: right;\n",
       "    }\n",
       "</style>\n",
       "<table border=\"1\" class=\"dataframe\">\n",
       "  <thead>\n",
       "    <tr style=\"text-align: right;\">\n",
       "      <th></th>\n",
       "      <th>accX</th>\n",
       "      <th>accY</th>\n",
       "      <th>accZ</th>\n",
       "      <th>class</th>\n",
       "    </tr>\n",
       "  </thead>\n",
       "  <tbody>\n",
       "    <tr>\n",
       "      <th>0</th>\n",
       "      <td>1502</td>\n",
       "      <td>2215</td>\n",
       "      <td>2153</td>\n",
       "      <td>1</td>\n",
       "    </tr>\n",
       "    <tr>\n",
       "      <th>1</th>\n",
       "      <td>1667</td>\n",
       "      <td>2072</td>\n",
       "      <td>2047</td>\n",
       "      <td>1</td>\n",
       "    </tr>\n",
       "    <tr>\n",
       "      <th>2</th>\n",
       "      <td>1611</td>\n",
       "      <td>1957</td>\n",
       "      <td>1906</td>\n",
       "      <td>1</td>\n",
       "    </tr>\n",
       "    <tr>\n",
       "      <th>3</th>\n",
       "      <td>1601</td>\n",
       "      <td>1939</td>\n",
       "      <td>1831</td>\n",
       "      <td>1</td>\n",
       "    </tr>\n",
       "    <tr>\n",
       "      <th>4</th>\n",
       "      <td>1643</td>\n",
       "      <td>1965</td>\n",
       "      <td>1879</td>\n",
       "      <td>1</td>\n",
       "    </tr>\n",
       "    <tr>\n",
       "      <th>...</th>\n",
       "      <td>...</td>\n",
       "      <td>...</td>\n",
       "      <td>...</td>\n",
       "      <td>...</td>\n",
       "    </tr>\n",
       "    <tr>\n",
       "      <th>162496</th>\n",
       "      <td>1927</td>\n",
       "      <td>2388</td>\n",
       "      <td>2074</td>\n",
       "      <td>7</td>\n",
       "    </tr>\n",
       "    <tr>\n",
       "      <th>162497</th>\n",
       "      <td>1930</td>\n",
       "      <td>2383</td>\n",
       "      <td>2074</td>\n",
       "      <td>7</td>\n",
       "    </tr>\n",
       "    <tr>\n",
       "      <th>162498</th>\n",
       "      <td>1929</td>\n",
       "      <td>2385</td>\n",
       "      <td>2076</td>\n",
       "      <td>7</td>\n",
       "    </tr>\n",
       "    <tr>\n",
       "      <th>162499</th>\n",
       "      <td>1926</td>\n",
       "      <td>2385</td>\n",
       "      <td>2078</td>\n",
       "      <td>7</td>\n",
       "    </tr>\n",
       "    <tr>\n",
       "      <th>162500</th>\n",
       "      <td>1922</td>\n",
       "      <td>2387</td>\n",
       "      <td>2078</td>\n",
       "      <td>0</td>\n",
       "    </tr>\n",
       "  </tbody>\n",
       "</table>\n",
       "<p>162501 rows × 4 columns</p>\n",
       "</div>"
      ],
      "text/plain": [
       "        accX  accY  accZ  class\n",
       "0       1502  2215  2153      1\n",
       "1       1667  2072  2047      1\n",
       "2       1611  1957  1906      1\n",
       "3       1601  1939  1831      1\n",
       "4       1643  1965  1879      1\n",
       "...      ...   ...   ...    ...\n",
       "162496  1927  2388  2074      7\n",
       "162497  1930  2383  2074      7\n",
       "162498  1929  2385  2076      7\n",
       "162499  1926  2385  2078      7\n",
       "162500  1922  2387  2078      0\n",
       "\n",
       "[162501 rows x 4 columns]"
      ]
     },
     "execution_count": 223,
     "metadata": {},
     "output_type": "execute_result"
    }
   ],
   "source": [
    "df = pd.read_csv(\"1.csv\", header=None)\n",
    "#for i in range(2,16):\n",
    "#    partialDF = pd.read_csv(f\"{i}.csv\", header=None)\n",
    "#    df = pd.concat([df,partialDF],ignore_index=True, axis=0)\n",
    "df.columns = [\"index\", \"accX\", \"accY\", \"accZ\", \"class\"]\n",
    "df.drop(\"index\", axis=1, inplace=True)\n",
    "df"
   ]
  },
  {
   "cell_type": "code",
   "execution_count": 235,
   "id": "12ecc824",
   "metadata": {},
   "outputs": [
    {
     "name": "stdout",
     "output_type": "stream",
     "text": [
      "test\\train splitting complete\n",
      "Training: 130000, Testing: 32501\n"
     ]
    }
   ],
   "source": [
    "#https://www.geeksforgeeks.org/random-forest-classifier-using-scikit-learn/\n",
    "#The general setup for the model is here\n",
    "y = df['class'].to_numpy()\n",
    "X = df[['accX', 'accY', 'accZ']].to_numpy()\n",
    "\n",
    "X = StandardScaler().fit_transform(X)\n",
    "train_size = 0.8\n",
    "test_size = 1-train_size\n",
    "X_train, X_test, y_train, y_test = train_test_split(X, y, train_size=train_size, test_size = test_size, random_state=42)\n",
    "print(\"test\\\\train splitting complete\")\n",
    "print(f\"Training: {len(X_train)}, Testing: {len(X_test)}\")"
   ]
  },
  {
   "cell_type": "code",
   "execution_count": 219,
   "id": "fbe3478c",
   "metadata": {},
   "outputs": [
    {
     "data": {
      "text/plain": [
       "<AxesSubplot:>"
      ]
     },
     "execution_count": 219,
     "metadata": {},
     "output_type": "execute_result"
    },
    {
     "data": {
      "image/png": "[encoded data removed]",
      "text/plain": [
       "<Figure size 640x480 with 1 Axes>"
      ]
     },
     "metadata": {},
     "output_type": "display_data"
    }
   ],
   "source": [
    "df[\"class\"].hist(density=True)"
   ]
  },
  {
   "cell_type": "code",
   "execution_count": 236,
   "id": "2d7f3322",
   "metadata": {},
   "outputs": [
    {
     "name": "stdout",
     "output_type": "stream",
     "text": [
      "Fitting models\n",
      "Model fitting complete\n"
     ]
    }
   ],
   "source": [
    "randomForestClassifier = RandomForestClassifier(n_estimators = 150, criterion=\"gini\", max_features=\"sqrt\", random_state=42)\n",
    "xgb_clf = xgb.XGBClassifier(n_estimators=150, learning_rate=0.05, max_depth=10, random_state=42)\n",
    "\n",
    "print(\"Fitting models\")\n",
    "randomForestClassifier.fit(X_train, y_train)\n",
    "xgb_clf.fit(X_train, y_train)\n",
    "print(\"Model fitting complete\")\n"
   ]
  },
  {
   "cell_type": "code",
   "execution_count": 240,
   "id": "6d480967",
   "metadata": {},
   "outputs": [
    {
     "name": "stdout",
     "output_type": "stream",
     "text": [
      "Predicting Model\n",
      "Complete\n"
     ]
    }
   ],
   "source": [
    "#APR Reference: https://stackoverflow.com/questions/31421413/how-to-compute-precision-recall-accuracy-and-f1-score-for-the-multiclass-case\n",
    "print(\"Predicting Model\")\n",
    "y_pred_rf = randomForestClassifier.predict(X_test)\n",
    "y_pred_xgb = xgb_clf.predict(X_test)\n",
    "print(\"Complete\")"
   ]
  },
  {
   "cell_type": "code",
   "execution_count": 241,
   "id": "fcfbd612",
   "metadata": {},
   "outputs": [
    {
     "name": "stdout",
     "output_type": "stream",
     "text": [
      "Accuracy RF: 0.840374142334082\n",
      "F1 Score RF: 0.5089192975152921\n",
      "Precision RF: 0.5622714897095684\n",
      "Recall RF: 0.4913398236370047\n",
      "\n",
      "Accuracy XGB: 0.8552044552475309\n",
      "F1 Score XGB: 0.5271252454487536\n",
      "Precision XGB: 0.6473770472644603\n",
      "Recall XGB: 0.4993942066122396\n"
     ]
    }
   ],
   "source": [
    "print(\"Accuracy RF:\", accuracy_score(y_test, y_pred_rf))\n",
    "print(\"F1 Score RF:\", f1_score(y_test, y_pred_rf, average=\"macro\"))\n",
    "print(\"Precision RF:\", precision_score(y_test, y_pred_rf, average=\"macro\"))\n",
    "print(\"Recall RF:\", recall_score(y_test, y_pred_rf, average=\"macro\"))\n",
    "print()\n",
    "print(\"Accuracy XGB:\", accuracy_score(y_test, y_pred_xgb))\n",
    "print(\"F1 Score XGB:\", f1_score(y_test, y_pred_xgb, average=\"macro\"))\n",
    "print(\"Precision XGB:\", precision_score(y_test, y_pred_xgb, average=\"macro\"))\n",
    "print(\"Recall XGB:\", recall_score(y_test, y_pred_xgb, average=\"macro\"))"
   ]
  },
  {
   "cell_type": "code",
   "execution_count": null,
   "id": "fdda42c3",
   "metadata": {},
   "outputs": [],
   "source": []
  }
 ],
 "metadata": {
  "kernelspec": {
   "display_name": "Python 3 (ipykernel)",
   "language": "python",
   "name": "python3"
  },
  "language_info": {
   "codemirror_mode": {
    "name": "ipython",
    "version": 3
   },
   "file_extension": ".py",
   "mimetype": "text/x-python",
   "name": "python",
   "nbconvert_exporter": "python",
   "pygments_lexer": "ipython3",
   "version": "3.12.4"
  }
 },
 "nbformat": 4,
 "nbformat_minor": 5
}
